{
 "cells": [
  {
   "cell_type": "markdown",
   "id": "1a574bcb-a6ce-4fc5-b1e5-cf63a5e629f6",
   "metadata": {},
   "source": [
    "#  Import Libraries & Load Dataset"
   ]
  },
  {
   "cell_type": "code",
   "execution_count": 1,
   "id": "c6036acd-afbb-4717-b67a-a58db273a035",
   "metadata": {},
   "outputs": [],
   "source": [
    "import pandas as pd"
   ]
  },
  {
   "cell_type": "code",
   "execution_count": 2,
   "id": "3958ee05-ba5b-40d2-ac32-1995da40f900",
   "metadata": {},
   "outputs": [
    {
     "data": {
      "text/html": [
       "<div>\n",
       "<style scoped>\n",
       "    .dataframe tbody tr th:only-of-type {\n",
       "        vertical-align: middle;\n",
       "    }\n",
       "\n",
       "    .dataframe tbody tr th {\n",
       "        vertical-align: top;\n",
       "    }\n",
       "\n",
       "    .dataframe thead th {\n",
       "        text-align: right;\n",
       "    }\n",
       "</style>\n",
       "<table border=\"1\" class=\"dataframe\">\n",
       "  <thead>\n",
       "    <tr style=\"text-align: right;\">\n",
       "      <th></th>\n",
       "      <th>Date</th>\n",
       "      <th>Tata Open</th>\n",
       "      <th>Tata High</th>\n",
       "      <th>Tata Low</th>\n",
       "      <th>Tata Close</th>\n",
       "      <th>Tata Adj Close</th>\n",
       "      <th>Tata Volume</th>\n",
       "      <th>Unnamed: 7</th>\n",
       "    </tr>\n",
       "  </thead>\n",
       "  <tbody>\n",
       "    <tr>\n",
       "      <th>0</th>\n",
       "      <td>3/8/2023</td>\n",
       "      <td>3364.000000</td>\n",
       "      <td>3396.000000</td>\n",
       "      <td>3330.850098</td>\n",
       "      <td>3390.399902</td>\n",
       "      <td>3390.399902</td>\n",
       "      <td>1844590</td>\n",
       "      <td>NaN</td>\n",
       "    </tr>\n",
       "    <tr>\n",
       "      <th>1</th>\n",
       "      <td>3/6/2023</td>\n",
       "      <td>3361.899902</td>\n",
       "      <td>3404.949951</td>\n",
       "      <td>3359.000000</td>\n",
       "      <td>3371.850098</td>\n",
       "      <td>3371.850098</td>\n",
       "      <td>1334132</td>\n",
       "      <td>NaN</td>\n",
       "    </tr>\n",
       "    <tr>\n",
       "      <th>2</th>\n",
       "      <td>3/3/2023</td>\n",
       "      <td>3354.000000</td>\n",
       "      <td>3358.000000</td>\n",
       "      <td>3331.100098</td>\n",
       "      <td>3342.149902</td>\n",
       "      <td>3342.149902</td>\n",
       "      <td>1043190</td>\n",
       "      <td>NaN</td>\n",
       "    </tr>\n",
       "    <tr>\n",
       "      <th>3</th>\n",
       "      <td>3/2/2023</td>\n",
       "      <td>3361.000000</td>\n",
       "      <td>3369.899902</td>\n",
       "      <td>3318.000000</td>\n",
       "      <td>3321.449951</td>\n",
       "      <td>3321.449951</td>\n",
       "      <td>1556538</td>\n",
       "      <td>NaN</td>\n",
       "    </tr>\n",
       "    <tr>\n",
       "      <th>4</th>\n",
       "      <td>3/1/2023</td>\n",
       "      <td>3323.000000</td>\n",
       "      <td>3389.000000</td>\n",
       "      <td>3315.000000</td>\n",
       "      <td>3385.699951</td>\n",
       "      <td>3385.699951</td>\n",
       "      <td>1669307</td>\n",
       "      <td>NaN</td>\n",
       "    </tr>\n",
       "    <tr>\n",
       "      <th>...</th>\n",
       "      <td>...</td>\n",
       "      <td>...</td>\n",
       "      <td>...</td>\n",
       "      <td>...</td>\n",
       "      <td>...</td>\n",
       "      <td>...</td>\n",
       "      <td>...</td>\n",
       "      <td>...</td>\n",
       "    </tr>\n",
       "    <tr>\n",
       "      <th>1231</th>\n",
       "      <td>3/15/2018</td>\n",
       "      <td>1447.500000</td>\n",
       "      <td>1451.275024</td>\n",
       "      <td>1427.800049</td>\n",
       "      <td>1434.849976</td>\n",
       "      <td>1287.602783</td>\n",
       "      <td>2348906</td>\n",
       "      <td>NaN</td>\n",
       "    </tr>\n",
       "    <tr>\n",
       "      <th>1232</th>\n",
       "      <td>3/14/2018</td>\n",
       "      <td>1446.474976</td>\n",
       "      <td>1461.525024</td>\n",
       "      <td>1437.525024</td>\n",
       "      <td>1443.449951</td>\n",
       "      <td>1295.320190</td>\n",
       "      <td>3668668</td>\n",
       "      <td>NaN</td>\n",
       "    </tr>\n",
       "    <tr>\n",
       "      <th>1233</th>\n",
       "      <td>3/13/2018</td>\n",
       "      <td>1462.449951</td>\n",
       "      <td>1469.849976</td>\n",
       "      <td>1436.000000</td>\n",
       "      <td>1443.400024</td>\n",
       "      <td>1295.275391</td>\n",
       "      <td>88067154</td>\n",
       "      <td>NaN</td>\n",
       "    </tr>\n",
       "    <tr>\n",
       "      <th>1234</th>\n",
       "      <td>3/12/2018</td>\n",
       "      <td>1521.500000</td>\n",
       "      <td>1541.949951</td>\n",
       "      <td>1517.750000</td>\n",
       "      <td>1526.074951</td>\n",
       "      <td>1369.465820</td>\n",
       "      <td>2091340</td>\n",
       "      <td>NaN</td>\n",
       "    </tr>\n",
       "    <tr>\n",
       "      <th>1235</th>\n",
       "      <td>3/9/2018</td>\n",
       "      <td>1502.500000</td>\n",
       "      <td>1531.599976</td>\n",
       "      <td>1488.599976</td>\n",
       "      <td>1517.050049</td>\n",
       "      <td>1361.367554</td>\n",
       "      <td>1872436</td>\n",
       "      <td>NaN</td>\n",
       "    </tr>\n",
       "  </tbody>\n",
       "</table>\n",
       "<p>1236 rows × 8 columns</p>\n",
       "</div>"
      ],
      "text/plain": [
       "           Date    Tata Open    Tata High     Tata Low   Tata Close  \\\n",
       "0      3/8/2023  3364.000000  3396.000000  3330.850098  3390.399902   \n",
       "1      3/6/2023  3361.899902  3404.949951  3359.000000  3371.850098   \n",
       "2      3/3/2023  3354.000000  3358.000000  3331.100098  3342.149902   \n",
       "3      3/2/2023  3361.000000  3369.899902  3318.000000  3321.449951   \n",
       "4      3/1/2023  3323.000000  3389.000000  3315.000000  3385.699951   \n",
       "...         ...          ...          ...          ...          ...   \n",
       "1231  3/15/2018  1447.500000  1451.275024  1427.800049  1434.849976   \n",
       "1232  3/14/2018  1446.474976  1461.525024  1437.525024  1443.449951   \n",
       "1233  3/13/2018  1462.449951  1469.849976  1436.000000  1443.400024   \n",
       "1234  3/12/2018  1521.500000  1541.949951  1517.750000  1526.074951   \n",
       "1235   3/9/2018  1502.500000  1531.599976  1488.599976  1517.050049   \n",
       "\n",
       "      Tata Adj Close  Tata Volume  Unnamed: 7  \n",
       "0        3390.399902      1844590         NaN  \n",
       "1        3371.850098      1334132         NaN  \n",
       "2        3342.149902      1043190         NaN  \n",
       "3        3321.449951      1556538         NaN  \n",
       "4        3385.699951      1669307         NaN  \n",
       "...              ...          ...         ...  \n",
       "1231     1287.602783      2348906         NaN  \n",
       "1232     1295.320190      3668668         NaN  \n",
       "1233     1295.275391     88067154         NaN  \n",
       "1234     1369.465820      2091340         NaN  \n",
       "1235     1361.367554      1872436         NaN  \n",
       "\n",
       "[1236 rows x 8 columns]"
      ]
     },
     "execution_count": 2,
     "metadata": {},
     "output_type": "execute_result"
    }
   ],
   "source": [
    "df=pd.read_csv(\"TCS.NS.csv\")\n",
    "df"
   ]
  },
  {
   "cell_type": "markdown",
   "id": "41d46e55-b552-4834-a17b-85ff0c9894bd",
   "metadata": {},
   "source": [
    "# Basic EDA (Exploratory Data Analysis)"
   ]
  },
  {
   "cell_type": "code",
   "execution_count": 3,
   "id": "59bd04c4-3557-47e2-84cb-6dbe7405a129",
   "metadata": {
    "scrolled": true
   },
   "outputs": [
    {
     "name": "stdout",
     "output_type": "stream",
     "text": [
      "<class 'pandas.core.frame.DataFrame'>\n",
      "RangeIndex: 1236 entries, 0 to 1235\n",
      "Data columns (total 8 columns):\n",
      " #   Column          Non-Null Count  Dtype  \n",
      "---  ------          --------------  -----  \n",
      " 0   Date            1236 non-null   object \n",
      " 1   Tata Open       1236 non-null   float64\n",
      " 2   Tata High       1236 non-null   float64\n",
      " 3   Tata Low        1236 non-null   float64\n",
      " 4   Tata Close      1236 non-null   float64\n",
      " 5   Tata Adj Close  1236 non-null   float64\n",
      " 6   Tata Volume     1236 non-null   int64  \n",
      " 7   Unnamed: 7      0 non-null      float64\n",
      "dtypes: float64(6), int64(1), object(1)\n",
      "memory usage: 77.4+ KB\n"
     ]
    }
   ],
   "source": [
    "df.info()"
   ]
  },
  {
   "cell_type": "code",
   "execution_count": 4,
   "id": "fd1fa3dc-4c70-4288-ac73-8b3529df75b1",
   "metadata": {},
   "outputs": [
    {
     "data": {
      "text/plain": [
       "(1236, 8)"
      ]
     },
     "execution_count": 4,
     "metadata": {},
     "output_type": "execute_result"
    }
   ],
   "source": [
    "df.shape"
   ]
  },
  {
   "cell_type": "code",
   "execution_count": 5,
   "id": "9f85ff80-f088-4b0c-8c17-dafa53683b74",
   "metadata": {},
   "outputs": [
    {
     "data": {
      "text/plain": [
       "Date               object\n",
       "Tata Open         float64\n",
       "Tata High         float64\n",
       "Tata Low          float64\n",
       "Tata Close        float64\n",
       "Tata Adj Close    float64\n",
       "Tata Volume         int64\n",
       "Unnamed: 7        float64\n",
       "dtype: object"
      ]
     },
     "execution_count": 5,
     "metadata": {},
     "output_type": "execute_result"
    }
   ],
   "source": [
    "df.dtypes"
   ]
  },
  {
   "cell_type": "code",
   "execution_count": 6,
   "id": "aefbd884-4c0e-45b1-a25b-015c645a925d",
   "metadata": {},
   "outputs": [
    {
     "data": {
      "text/html": [
       "<div>\n",
       "<style scoped>\n",
       "    .dataframe tbody tr th:only-of-type {\n",
       "        vertical-align: middle;\n",
       "    }\n",
       "\n",
       "    .dataframe tbody tr th {\n",
       "        vertical-align: top;\n",
       "    }\n",
       "\n",
       "    .dataframe thead th {\n",
       "        text-align: right;\n",
       "    }\n",
       "</style>\n",
       "<table border=\"1\" class=\"dataframe\">\n",
       "  <thead>\n",
       "    <tr style=\"text-align: right;\">\n",
       "      <th></th>\n",
       "      <th>Tata Open</th>\n",
       "      <th>Tata High</th>\n",
       "      <th>Tata Low</th>\n",
       "      <th>Tata Close</th>\n",
       "      <th>Tata Adj Close</th>\n",
       "      <th>Tata Volume</th>\n",
       "      <th>Unnamed: 7</th>\n",
       "    </tr>\n",
       "  </thead>\n",
       "  <tbody>\n",
       "    <tr>\n",
       "      <th>count</th>\n",
       "      <td>1236.000000</td>\n",
       "      <td>1236.000000</td>\n",
       "      <td>1236.000000</td>\n",
       "      <td>1236.000000</td>\n",
       "      <td>1236.000000</td>\n",
       "      <td>1.236000e+03</td>\n",
       "      <td>0.0</td>\n",
       "    </tr>\n",
       "    <tr>\n",
       "      <th>mean</th>\n",
       "      <td>2655.670508</td>\n",
       "      <td>2682.157722</td>\n",
       "      <td>2626.782753</td>\n",
       "      <td>2654.277770</td>\n",
       "      <td>2525.914239</td>\n",
       "      <td>3.084762e+06</td>\n",
       "      <td>NaN</td>\n",
       "    </tr>\n",
       "    <tr>\n",
       "      <th>std</th>\n",
       "      <td>694.199318</td>\n",
       "      <td>697.373485</td>\n",
       "      <td>689.648040</td>\n",
       "      <td>693.676517</td>\n",
       "      <td>719.185149</td>\n",
       "      <td>3.080655e+06</td>\n",
       "      <td>NaN</td>\n",
       "    </tr>\n",
       "    <tr>\n",
       "      <th>min</th>\n",
       "      <td>1401.000000</td>\n",
       "      <td>1413.699951</td>\n",
       "      <td>1390.775024</td>\n",
       "      <td>1408.500000</td>\n",
       "      <td>1263.956909</td>\n",
       "      <td>1.445300e+05</td>\n",
       "      <td>NaN</td>\n",
       "    </tr>\n",
       "    <tr>\n",
       "      <th>25%</th>\n",
       "      <td>2050.825074</td>\n",
       "      <td>2071.012574</td>\n",
       "      <td>2024.500000</td>\n",
       "      <td>2046.225006</td>\n",
       "      <td>1883.964905</td>\n",
       "      <td>1.873852e+06</td>\n",
       "      <td>NaN</td>\n",
       "    </tr>\n",
       "    <tr>\n",
       "      <th>50%</th>\n",
       "      <td>2351.974976</td>\n",
       "      <td>2415.224976</td>\n",
       "      <td>2328.599976</td>\n",
       "      <td>2361.150024</td>\n",
       "      <td>2248.520507</td>\n",
       "      <td>2.558724e+06</td>\n",
       "      <td>NaN</td>\n",
       "    </tr>\n",
       "    <tr>\n",
       "      <th>75%</th>\n",
       "      <td>3290.025024</td>\n",
       "      <td>3321.000000</td>\n",
       "      <td>3257.299926</td>\n",
       "      <td>3287.887574</td>\n",
       "      <td>3194.607544</td>\n",
       "      <td>3.537774e+06</td>\n",
       "      <td>NaN</td>\n",
       "    </tr>\n",
       "    <tr>\n",
       "      <th>max</th>\n",
       "      <td>4033.949951</td>\n",
       "      <td>4043.000000</td>\n",
       "      <td>3980.000000</td>\n",
       "      <td>4019.149902</td>\n",
       "      <td>3885.789551</td>\n",
       "      <td>8.806715e+07</td>\n",
       "      <td>NaN</td>\n",
       "    </tr>\n",
       "  </tbody>\n",
       "</table>\n",
       "</div>"
      ],
      "text/plain": [
       "         Tata Open    Tata High     Tata Low   Tata Close  Tata Adj Close  \\\n",
       "count  1236.000000  1236.000000  1236.000000  1236.000000     1236.000000   \n",
       "mean   2655.670508  2682.157722  2626.782753  2654.277770     2525.914239   \n",
       "std     694.199318   697.373485   689.648040   693.676517      719.185149   \n",
       "min    1401.000000  1413.699951  1390.775024  1408.500000     1263.956909   \n",
       "25%    2050.825074  2071.012574  2024.500000  2046.225006     1883.964905   \n",
       "50%    2351.974976  2415.224976  2328.599976  2361.150024     2248.520507   \n",
       "75%    3290.025024  3321.000000  3257.299926  3287.887574     3194.607544   \n",
       "max    4033.949951  4043.000000  3980.000000  4019.149902     3885.789551   \n",
       "\n",
       "        Tata Volume  Unnamed: 7  \n",
       "count  1.236000e+03         0.0  \n",
       "mean   3.084762e+06         NaN  \n",
       "std    3.080655e+06         NaN  \n",
       "min    1.445300e+05         NaN  \n",
       "25%    1.873852e+06         NaN  \n",
       "50%    2.558724e+06         NaN  \n",
       "75%    3.537774e+06         NaN  \n",
       "max    8.806715e+07         NaN  "
      ]
     },
     "execution_count": 6,
     "metadata": {},
     "output_type": "execute_result"
    }
   ],
   "source": [
    "df.describe()"
   ]
  },
  {
   "cell_type": "markdown",
   "id": "c18b5e98-c069-445f-805f-8d326590e128",
   "metadata": {},
   "source": [
    "# Missing Values"
   ]
  },
  {
   "cell_type": "code",
   "execution_count": 7,
   "id": "be05a59a-321f-45a1-8677-94131ecc8507",
   "metadata": {},
   "outputs": [
    {
     "data": {
      "text/plain": [
       "Date                 0\n",
       "Tata Open            0\n",
       "Tata High            0\n",
       "Tata Low             0\n",
       "Tata Close           0\n",
       "Tata Adj Close       0\n",
       "Tata Volume          0\n",
       "Unnamed: 7        1236\n",
       "dtype: int64"
      ]
     },
     "execution_count": 7,
     "metadata": {},
     "output_type": "execute_result"
    }
   ],
   "source": [
    "df.isnull().sum()"
   ]
  },
  {
   "cell_type": "markdown",
   "id": "4f5e2815-22ad-45bb-9ef3-4bc4710ed4e3",
   "metadata": {},
   "source": [
    "# Handled Missing Values By Dropping the Column"
   ]
  },
  {
   "cell_type": "code",
   "execution_count": 8,
   "id": "8dab21d6-3ec1-4899-a96a-96a4ef8bca0a",
   "metadata": {},
   "outputs": [],
   "source": [
    "df.drop(columns=['Unnamed: 7'], inplace=True)"
   ]
  },
  {
   "cell_type": "code",
   "execution_count": 9,
   "id": "c1185214-e501-4aae-a910-ed33d70cd7b2",
   "metadata": {},
   "outputs": [
    {
     "data": {
      "text/plain": [
       "Date              0\n",
       "Tata Open         0\n",
       "Tata High         0\n",
       "Tata Low          0\n",
       "Tata Close        0\n",
       "Tata Adj Close    0\n",
       "Tata Volume       0\n",
       "dtype: int64"
      ]
     },
     "execution_count": 9,
     "metadata": {},
     "output_type": "execute_result"
    }
   ],
   "source": [
    "df.isnull().sum()"
   ]
  },
  {
   "cell_type": "markdown",
   "id": "a43a9abe-8474-4a4e-8ac4-f04c83a3687b",
   "metadata": {},
   "source": [
    "# Checking For Duplicate Rows"
   ]
  },
  {
   "cell_type": "code",
   "execution_count": 10,
   "id": "52eadfb2-040a-4605-a007-0a14b1ab3278",
   "metadata": {},
   "outputs": [
    {
     "name": "stdout",
     "output_type": "stream",
     "text": [
      "Total duplicate rows: 0\n"
     ]
    }
   ],
   "source": [
    "duplicate_rows = df[df.duplicated()]\n",
    "print(f\"Total duplicate rows: {duplicate_rows.shape[0]}\")\n"
   ]
  },
  {
   "cell_type": "code",
   "execution_count": 11,
   "id": "32fcd38a-fa90-4f63-a095-2c12cce3b455",
   "metadata": {},
   "outputs": [],
   "source": [
    "df['Date'] = pd.to_datetime(df['Date'])\n",
    "df.set_index('Date', inplace=True)\n"
   ]
  },
  {
   "cell_type": "code",
   "execution_count": 12,
   "id": "2f1f6946-8669-4f08-926c-fa02044c0a9b",
   "metadata": {},
   "outputs": [
    {
     "data": {
      "image/png": "[encoded data removed]",
      "text/plain": [
       "<Figure size 1200x500 with 1 Axes>"
      ]
     },
     "metadata": {},
     "output_type": "display_data"
    }
   ],
   "source": [
    "import matplotlib.pyplot as plt\n",
    "plt.figure(figsize=(12, 5))\n",
    "plt.plot(df['Tata Adj Close'], label='Tata Adj Close')\n",
    "plt.title('TCS Stock Price Over Time')\n",
    "plt.xlabel('Date')\n",
    "plt.ylabel('Price')\n",
    "plt.legend()\n",
    "plt.show()"
   ]
  },
  {
   "cell_type": "markdown",
   "id": "893ba8a6-4cba-4704-8b9a-7a31a57e82b5",
   "metadata": {},
   "source": [
    "# Check missing values"
   ]
  },
  {
   "cell_type": "code",
   "execution_count": 13,
   "id": "d77c85ca-fcec-46b0-951f-c9f5af8213df",
   "metadata": {},
   "outputs": [
    {
     "name": "stdout",
     "output_type": "stream",
     "text": [
      "Tata Open         0\n",
      "Tata High         0\n",
      "Tata Low          0\n",
      "Tata Close        0\n",
      "Tata Adj Close    0\n",
      "Tata Volume       0\n",
      "dtype: int64\n"
     ]
    },
    {
     "name": "stderr",
     "output_type": "stream",
     "text": [
      "C:\\Users\\ponna\\AppData\\Local\\Temp\\ipykernel_20932\\3780751751.py:5: FutureWarning: DataFrame.fillna with 'method' is deprecated and will raise in a future version. Use obj.ffill() or obj.bfill() instead.\n",
      "  df.fillna(method='ffill', inplace=True)\n",
      "C:\\Users\\ponna\\AppData\\Local\\Temp\\ipykernel_20932\\3780751751.py:6: FutureWarning: DataFrame.fillna with 'method' is deprecated and will raise in a future version. Use obj.ffill() or obj.bfill() instead.\n",
      "  df.fillna(method='bfill', inplace=True)\n"
     ]
    }
   ],
   "source": [
    "# Check missing values\n",
    "print(df.isnull().sum())\n",
    "\n",
    "# Fill forward missing values (if time-series)\n",
    "df.fillna(method='ffill', inplace=True)\n",
    "df.fillna(method='bfill', inplace=True)\n"
   ]
  },
  {
   "cell_type": "markdown",
   "id": "9e05fa1c-1dae-44ec-8fd1-5edab8c11261",
   "metadata": {},
   "source": [
    "# Outlier Detection (Z-score method or IQR)"
   ]
  },
  {
   "cell_type": "code",
   "execution_count": 14,
   "id": "5a092e7d-c04f-4b69-9a8f-3c33e3eb0cbc",
   "metadata": {},
   "outputs": [
    {
     "data": {
      "image/png": "[encoded data removed]",
      "text/plain": [
       "<Figure size 1200x400 with 1 Axes>"
      ]
     },
     "metadata": {},
     "output_type": "display_data"
    }
   ],
   "source": [
    "# Z-score method\n",
    "from scipy.stats import zscore\n",
    "import numpy as np\n",
    "import seaborn as sns\n",
    "z_scores = np.abs(zscore(df[['Tata Open', 'Tata High', 'Tata Low', 'Tata Close', 'Tata Adj Close', 'Tata Volume']]))\n",
    "df_no_outliers = df[(z_scores < 3).all(axis=1)]\n",
    "\n",
    "# Optional: visualize with boxplot\n",
    "plt.figure(figsize=(12, 4))\n",
    "sns.boxplot(data=df[['Tata Open', 'Tata High', 'Tata Low', 'Tata Close', 'Tata Adj Close']])\n",
    "plt.title('Boxplot for Outlier Detection')\n",
    "plt.show()\n"
   ]
  },
  {
   "cell_type": "markdown",
   "id": "340bee35-0e80-45ba-96b7-7b2548a9abcd",
   "metadata": {},
   "source": [
    "# Feature Engineering"
   ]
  },
  {
   "cell_type": "code",
   "execution_count": 15,
   "id": "098e85f8-ce88-4ec2-bddf-76f0b2abe802",
   "metadata": {},
   "outputs": [],
   "source": [
    "# Daily return (%)\n",
    "df['Daily Return %'] = df['Tata Adj Close'].pct_change() * 100\n",
    "\n",
    "# Moving Averages\n",
    "df['MA_10'] = df['Tata Adj Close'].rolling(window=10).mean()\n",
    "df['MA_30'] = df['Tata Adj Close'].rolling(window=30).mean()\n",
    "\n",
    "# Volatility (Rolling Std Dev)\n",
    "df['Volatility_10'] = df['Tata Adj Close'].rolling(window=10).std()\n",
    "\n",
    "# Drop NA rows generated by rolling\n",
    "df.dropna(inplace=True)\n"
   ]
  },
  {
   "cell_type": "code",
   "execution_count": 16,
   "id": "037bb812-92c8-40c7-af07-2d41a7e7ee84",
   "metadata": {},
   "outputs": [
    {
     "data": {
      "text/html": [
       "<div>\n",
       "<style scoped>\n",
       "    .dataframe tbody tr th:only-of-type {\n",
       "        vertical-align: middle;\n",
       "    }\n",
       "\n",
       "    .dataframe tbody tr th {\n",
       "        vertical-align: top;\n",
       "    }\n",
       "\n",
       "    .dataframe thead th {\n",
       "        text-align: right;\n",
       "    }\n",
       "</style>\n",
       "<table border=\"1\" class=\"dataframe\">\n",
       "  <thead>\n",
       "    <tr style=\"text-align: right;\">\n",
       "      <th></th>\n",
       "      <th>Tata Open</th>\n",
       "      <th>Tata High</th>\n",
       "      <th>Tata Low</th>\n",
       "      <th>Tata Close</th>\n",
       "      <th>Tata Adj Close</th>\n",
       "      <th>Tata Volume</th>\n",
       "      <th>Daily Return %</th>\n",
       "      <th>MA_10</th>\n",
       "      <th>MA_30</th>\n",
       "      <th>Volatility_10</th>\n",
       "    </tr>\n",
       "    <tr>\n",
       "      <th>Date</th>\n",
       "      <th></th>\n",
       "      <th></th>\n",
       "      <th></th>\n",
       "      <th></th>\n",
       "      <th></th>\n",
       "      <th></th>\n",
       "      <th></th>\n",
       "      <th></th>\n",
       "      <th></th>\n",
       "      <th></th>\n",
       "    </tr>\n",
       "  </thead>\n",
       "  <tbody>\n",
       "    <tr>\n",
       "      <th>2023-01-24</th>\n",
       "      <td>3425.000000</td>\n",
       "      <td>3451.949951</td>\n",
       "      <td>3417.300049</td>\n",
       "      <td>3436.300049</td>\n",
       "      <td>3436.300049</td>\n",
       "      <td>1387863</td>\n",
       "      <td>0.190977</td>\n",
       "      <td>3435.300000</td>\n",
       "      <td>3437.473340</td>\n",
       "      <td>36.591812</td>\n",
       "    </tr>\n",
       "    <tr>\n",
       "      <th>2023-01-23</th>\n",
       "      <td>3388.000000</td>\n",
       "      <td>3419.000000</td>\n",
       "      <td>3355.600098</td>\n",
       "      <td>3414.899902</td>\n",
       "      <td>3414.899902</td>\n",
       "      <td>1067916</td>\n",
       "      <td>-0.622767</td>\n",
       "      <td>3429.534985</td>\n",
       "      <td>3438.290007</td>\n",
       "      <td>34.555736</td>\n",
       "    </tr>\n",
       "    <tr>\n",
       "      <th>2023-01-20</th>\n",
       "      <td>3365.000000</td>\n",
       "      <td>3394.649902</td>\n",
       "      <td>3355.600098</td>\n",
       "      <td>3363.100098</td>\n",
       "      <td>3363.100098</td>\n",
       "      <td>1529349</td>\n",
       "      <td>-1.516876</td>\n",
       "      <td>3419.850000</td>\n",
       "      <td>3437.998340</td>\n",
       "      <td>38.438154</td>\n",
       "    </tr>\n",
       "    <tr>\n",
       "      <th>2023-01-19</th>\n",
       "      <td>3380.000000</td>\n",
       "      <td>3387.000000</td>\n",
       "      <td>3361.000000</td>\n",
       "      <td>3373.100098</td>\n",
       "      <td>3373.100098</td>\n",
       "      <td>1585044</td>\n",
       "      <td>0.297345</td>\n",
       "      <td>3408.930005</td>\n",
       "      <td>3439.030013</td>\n",
       "      <td>33.977945</td>\n",
       "    </tr>\n",
       "    <tr>\n",
       "      <th>2023-01-18</th>\n",
       "      <td>3380.000000</td>\n",
       "      <td>3408.949951</td>\n",
       "      <td>3372.250000</td>\n",
       "      <td>3390.000000</td>\n",
       "      <td>3390.000000</td>\n",
       "      <td>2421189</td>\n",
       "      <td>0.501020</td>\n",
       "      <td>3401.890015</td>\n",
       "      <td>3441.315015</td>\n",
       "      <td>29.067138</td>\n",
       "    </tr>\n",
       "    <tr>\n",
       "      <th>...</th>\n",
       "      <td>...</td>\n",
       "      <td>...</td>\n",
       "      <td>...</td>\n",
       "      <td>...</td>\n",
       "      <td>...</td>\n",
       "      <td>...</td>\n",
       "      <td>...</td>\n",
       "      <td>...</td>\n",
       "      <td>...</td>\n",
       "      <td>...</td>\n",
       "    </tr>\n",
       "    <tr>\n",
       "      <th>2018-03-15</th>\n",
       "      <td>1447.500000</td>\n",
       "      <td>1451.275024</td>\n",
       "      <td>1427.800049</td>\n",
       "      <td>1434.849976</td>\n",
       "      <td>1287.602783</td>\n",
       "      <td>2348906</td>\n",
       "      <td>1.557146</td>\n",
       "      <td>1274.785925</td>\n",
       "      <td>1369.732263</td>\n",
       "      <td>8.561840</td>\n",
       "    </tr>\n",
       "    <tr>\n",
       "      <th>2018-03-14</th>\n",
       "      <td>1446.474976</td>\n",
       "      <td>1461.525024</td>\n",
       "      <td>1437.525024</td>\n",
       "      <td>1443.449951</td>\n",
       "      <td>1295.320190</td>\n",
       "      <td>3668668</td>\n",
       "      <td>0.599362</td>\n",
       "      <td>1276.479761</td>\n",
       "      <td>1361.281209</td>\n",
       "      <td>10.748543</td>\n",
       "    </tr>\n",
       "    <tr>\n",
       "      <th>2018-03-13</th>\n",
       "      <td>1462.449951</td>\n",
       "      <td>1469.849976</td>\n",
       "      <td>1436.000000</td>\n",
       "      <td>1443.400024</td>\n",
       "      <td>1295.275391</td>\n",
       "      <td>88067154</td>\n",
       "      <td>-0.003459</td>\n",
       "      <td>1278.234143</td>\n",
       "      <td>1351.522974</td>\n",
       "      <td>12.295937</td>\n",
       "    </tr>\n",
       "    <tr>\n",
       "      <th>2018-03-12</th>\n",
       "      <td>1521.500000</td>\n",
       "      <td>1541.949951</td>\n",
       "      <td>1517.750000</td>\n",
       "      <td>1526.074951</td>\n",
       "      <td>1369.465820</td>\n",
       "      <td>2091340</td>\n",
       "      <td>5.727773</td>\n",
       "      <td>1288.785034</td>\n",
       "      <td>1345.269723</td>\n",
       "      <td>30.490212</td>\n",
       "    </tr>\n",
       "    <tr>\n",
       "      <th>2018-03-09</th>\n",
       "      <td>1502.500000</td>\n",
       "      <td>1531.599976</td>\n",
       "      <td>1488.599976</td>\n",
       "      <td>1517.050049</td>\n",
       "      <td>1361.367554</td>\n",
       "      <td>1872436</td>\n",
       "      <td>-0.591345</td>\n",
       "      <td>1298.474500</td>\n",
       "      <td>1340.011853</td>\n",
       "      <td>36.674487</td>\n",
       "    </tr>\n",
       "  </tbody>\n",
       "</table>\n",
       "<p>1207 rows × 10 columns</p>\n",
       "</div>"
      ],
      "text/plain": [
       "              Tata Open    Tata High     Tata Low   Tata Close  \\\n",
       "Date                                                             \n",
       "2023-01-24  3425.000000  3451.949951  3417.300049  3436.300049   \n",
       "2023-01-23  3388.000000  3419.000000  3355.600098  3414.899902   \n",
       "2023-01-20  3365.000000  3394.649902  3355.600098  3363.100098   \n",
       "2023-01-19  3380.000000  3387.000000  3361.000000  3373.100098   \n",
       "2023-01-18  3380.000000  3408.949951  3372.250000  3390.000000   \n",
       "...                 ...          ...          ...          ...   \n",
       "2018-03-15  1447.500000  1451.275024  1427.800049  1434.849976   \n",
       "2018-03-14  1446.474976  1461.525024  1437.525024  1443.449951   \n",
       "2018-03-13  1462.449951  1469.849976  1436.000000  1443.400024   \n",
       "2018-03-12  1521.500000  1541.949951  1517.750000  1526.074951   \n",
       "2018-03-09  1502.500000  1531.599976  1488.599976  1517.050049   \n",
       "\n",
       "            Tata Adj Close  Tata Volume  Daily Return %        MA_10  \\\n",
       "Date                                                                   \n",
       "2023-01-24     3436.300049      1387863        0.190977  3435.300000   \n",
       "2023-01-23     3414.899902      1067916       -0.622767  3429.534985   \n",
       "2023-01-20     3363.100098      1529349       -1.516876  3419.850000   \n",
       "2023-01-19     3373.100098      1585044        0.297345  3408.930005   \n",
       "2023-01-18     3390.000000      2421189        0.501020  3401.890015   \n",
       "...                    ...          ...             ...          ...   \n",
       "2018-03-15     1287.602783      2348906        1.557146  1274.785925   \n",
       "2018-03-14     1295.320190      3668668        0.599362  1276.479761   \n",
       "2018-03-13     1295.275391     88067154       -0.003459  1278.234143   \n",
       "2018-03-12     1369.465820      2091340        5.727773  1288.785034   \n",
       "2018-03-09     1361.367554      1872436       -0.591345  1298.474500   \n",
       "\n",
       "                  MA_30  Volatility_10  \n",
       "Date                                    \n",
       "2023-01-24  3437.473340      36.591812  \n",
       "2023-01-23  3438.290007      34.555736  \n",
       "2023-01-20  3437.998340      38.438154  \n",
       "2023-01-19  3439.030013      33.977945  \n",
       "2023-01-18  3441.315015      29.067138  \n",
       "...                 ...            ...  \n",
       "2018-03-15  1369.732263       8.561840  \n",
       "2018-03-14  1361.281209      10.748543  \n",
       "2018-03-13  1351.522974      12.295937  \n",
       "2018-03-12  1345.269723      30.490212  \n",
       "2018-03-09  1340.011853      36.674487  \n",
       "\n",
       "[1207 rows x 10 columns]"
      ]
     },
     "execution_count": 16,
     "metadata": {},
     "output_type": "execute_result"
    }
   ],
   "source": [
    "df"
   ]
  },
  {
   "cell_type": "markdown",
   "id": "6152be9a-79db-4986-86b0-53d32b025aac",
   "metadata": {},
   "source": [
    "# Feature Scaling"
   ]
  },
  {
   "cell_type": "code",
   "execution_count": 17,
   "id": "b85fecb4-99af-4808-8c99-7ed31d3c67c2",
   "metadata": {},
   "outputs": [],
   "source": [
    "from sklearn.preprocessing import MinMaxScaler\n",
    "\n",
    "scaler = MinMaxScaler()\n",
    "scaled_features = scaler.fit_transform(df[['Tata Open', 'Tata High', 'Tata Low', 'Tata Close', 'Tata Adj Close', 'Tata Volume', \n",
    "                                           'Daily Return %', 'MA_10', 'MA_30', 'Volatility_10']])\n",
    "\n",
    "scaled_df = pd.DataFrame(scaled_features, columns=[\n",
    "    'Tata Open', 'Tata High', 'Tata Low', 'Tata Close', 'Tata Adj Close', 'Tata Volume', \n",
    "    'Daily Return %', 'MA_10', 'MA_30', 'Volatility_10'],\n",
    "    index=df.index\n",
    ")\n"
   ]
  },
  {
   "cell_type": "code",
   "execution_count": 18,
   "id": "2f8d728b-e959-4740-8298-08cc4948c850",
   "metadata": {},
   "outputs": [
    {
     "data": {
      "text/html": [
       "<div>\n",
       "<style scoped>\n",
       "    .dataframe tbody tr th:only-of-type {\n",
       "        vertical-align: middle;\n",
       "    }\n",
       "\n",
       "    .dataframe tbody tr th {\n",
       "        vertical-align: top;\n",
       "    }\n",
       "\n",
       "    .dataframe thead th {\n",
       "        text-align: right;\n",
       "    }\n",
       "</style>\n",
       "<table border=\"1\" class=\"dataframe\">\n",
       "  <thead>\n",
       "    <tr style=\"text-align: right;\">\n",
       "      <th></th>\n",
       "      <th>Tata Open</th>\n",
       "      <th>Tata High</th>\n",
       "      <th>Tata Low</th>\n",
       "      <th>Tata Close</th>\n",
       "      <th>Tata Adj Close</th>\n",
       "      <th>Tata Volume</th>\n",
       "      <th>Daily Return %</th>\n",
       "      <th>MA_10</th>\n",
       "      <th>MA_30</th>\n",
       "      <th>Volatility_10</th>\n",
       "    </tr>\n",
       "    <tr>\n",
       "      <th>Date</th>\n",
       "      <th></th>\n",
       "      <th></th>\n",
       "      <th></th>\n",
       "      <th></th>\n",
       "      <th></th>\n",
       "      <th></th>\n",
       "      <th></th>\n",
       "      <th></th>\n",
       "      <th></th>\n",
       "      <th></th>\n",
       "    </tr>\n",
       "  </thead>\n",
       "  <tbody>\n",
       "    <tr>\n",
       "      <th>2023-01-24</th>\n",
       "      <td>0.768720</td>\n",
       "      <td>0.775206</td>\n",
       "      <td>0.782676</td>\n",
       "      <td>0.776741</td>\n",
       "      <td>0.828559</td>\n",
       "      <td>0.014141</td>\n",
       "      <td>0.473044</td>\n",
       "      <td>0.860996</td>\n",
       "      <td>0.887959</td>\n",
       "      <td>0.179433</td>\n",
       "    </tr>\n",
       "    <tr>\n",
       "      <th>2023-01-23</th>\n",
       "      <td>0.754667</td>\n",
       "      <td>0.762674</td>\n",
       "      <td>0.758847</td>\n",
       "      <td>0.768544</td>\n",
       "      <td>0.820397</td>\n",
       "      <td>0.010502</td>\n",
       "      <td>0.430991</td>\n",
       "      <td>0.858699</td>\n",
       "      <td>0.888305</td>\n",
       "      <td>0.167622</td>\n",
       "    </tr>\n",
       "    <tr>\n",
       "      <th>2023-01-20</th>\n",
       "      <td>0.745931</td>\n",
       "      <td>0.753413</td>\n",
       "      <td>0.758847</td>\n",
       "      <td>0.748702</td>\n",
       "      <td>0.800640</td>\n",
       "      <td>0.015750</td>\n",
       "      <td>0.384785</td>\n",
       "      <td>0.854839</td>\n",
       "      <td>0.888181</td>\n",
       "      <td>0.190144</td>\n",
       "    </tr>\n",
       "    <tr>\n",
       "      <th>2023-01-19</th>\n",
       "      <td>0.751628</td>\n",
       "      <td>0.750504</td>\n",
       "      <td>0.760932</td>\n",
       "      <td>0.752533</td>\n",
       "      <td>0.804454</td>\n",
       "      <td>0.016384</td>\n",
       "      <td>0.478540</td>\n",
       "      <td>0.850487</td>\n",
       "      <td>0.888618</td>\n",
       "      <td>0.164270</td>\n",
       "    </tr>\n",
       "    <tr>\n",
       "      <th>2023-01-18</th>\n",
       "      <td>0.751628</td>\n",
       "      <td>0.758852</td>\n",
       "      <td>0.765277</td>\n",
       "      <td>0.759006</td>\n",
       "      <td>0.810900</td>\n",
       "      <td>0.025894</td>\n",
       "      <td>0.489066</td>\n",
       "      <td>0.847682</td>\n",
       "      <td>0.889585</td>\n",
       "      <td>0.135783</td>\n",
       "    </tr>\n",
       "    <tr>\n",
       "      <th>...</th>\n",
       "      <td>...</td>\n",
       "      <td>...</td>\n",
       "      <td>...</td>\n",
       "      <td>...</td>\n",
       "      <td>...</td>\n",
       "      <td>...</td>\n",
       "      <td>...</td>\n",
       "      <td>...</td>\n",
       "      <td>...</td>\n",
       "      <td>...</td>\n",
       "    </tr>\n",
       "    <tr>\n",
       "      <th>2018-03-15</th>\n",
       "      <td>0.017661</td>\n",
       "      <td>0.014291</td>\n",
       "      <td>0.014300</td>\n",
       "      <td>0.010093</td>\n",
       "      <td>0.009019</td>\n",
       "      <td>0.025072</td>\n",
       "      <td>0.543644</td>\n",
       "      <td>0.000000</td>\n",
       "      <td>0.012582</td>\n",
       "      <td>0.016832</td>\n",
       "    </tr>\n",
       "    <tr>\n",
       "      <th>2018-03-14</th>\n",
       "      <td>0.017271</td>\n",
       "      <td>0.018189</td>\n",
       "      <td>0.018056</td>\n",
       "      <td>0.013387</td>\n",
       "      <td>0.011962</td>\n",
       "      <td>0.040082</td>\n",
       "      <td>0.494148</td>\n",
       "      <td>0.000675</td>\n",
       "      <td>0.009004</td>\n",
       "      <td>0.029517</td>\n",
       "    </tr>\n",
       "    <tr>\n",
       "      <th>2018-03-13</th>\n",
       "      <td>0.023339</td>\n",
       "      <td>0.021356</td>\n",
       "      <td>0.017467</td>\n",
       "      <td>0.013368</td>\n",
       "      <td>0.011945</td>\n",
       "      <td>1.000000</td>\n",
       "      <td>0.462995</td>\n",
       "      <td>0.001374</td>\n",
       "      <td>0.004873</td>\n",
       "      <td>0.038493</td>\n",
       "    </tr>\n",
       "    <tr>\n",
       "      <th>2018-03-12</th>\n",
       "      <td>0.045766</td>\n",
       "      <td>0.048777</td>\n",
       "      <td>0.049040</td>\n",
       "      <td>0.045037</td>\n",
       "      <td>0.040242</td>\n",
       "      <td>0.022142</td>\n",
       "      <td>0.759174</td>\n",
       "      <td>0.005579</td>\n",
       "      <td>0.002226</td>\n",
       "      <td>0.144038</td>\n",
       "    </tr>\n",
       "    <tr>\n",
       "      <th>2018-03-09</th>\n",
       "      <td>0.038550</td>\n",
       "      <td>0.044841</td>\n",
       "      <td>0.037782</td>\n",
       "      <td>0.041580</td>\n",
       "      <td>0.037154</td>\n",
       "      <td>0.019653</td>\n",
       "      <td>0.432615</td>\n",
       "      <td>0.009440</td>\n",
       "      <td>0.000000</td>\n",
       "      <td>0.179913</td>\n",
       "    </tr>\n",
       "  </tbody>\n",
       "</table>\n",
       "<p>1207 rows × 10 columns</p>\n",
       "</div>"
      ],
      "text/plain": [
       "            Tata Open  Tata High  Tata Low  Tata Close  Tata Adj Close  \\\n",
       "Date                                                                     \n",
       "2023-01-24   0.768720   0.775206  0.782676    0.776741        0.828559   \n",
       "2023-01-23   0.754667   0.762674  0.758847    0.768544        0.820397   \n",
       "2023-01-20   0.745931   0.753413  0.758847    0.748702        0.800640   \n",
       "2023-01-19   0.751628   0.750504  0.760932    0.752533        0.804454   \n",
       "2023-01-18   0.751628   0.758852  0.765277    0.759006        0.810900   \n",
       "...               ...        ...       ...         ...             ...   \n",
       "2018-03-15   0.017661   0.014291  0.014300    0.010093        0.009019   \n",
       "2018-03-14   0.017271   0.018189  0.018056    0.013387        0.011962   \n",
       "2018-03-13   0.023339   0.021356  0.017467    0.013368        0.011945   \n",
       "2018-03-12   0.045766   0.048777  0.049040    0.045037        0.040242   \n",
       "2018-03-09   0.038550   0.044841  0.037782    0.041580        0.037154   \n",
       "\n",
       "            Tata Volume  Daily Return %     MA_10     MA_30  Volatility_10  \n",
       "Date                                                                        \n",
       "2023-01-24     0.014141        0.473044  0.860996  0.887959       0.179433  \n",
       "2023-01-23     0.010502        0.430991  0.858699  0.888305       0.167622  \n",
       "2023-01-20     0.015750        0.384785  0.854839  0.888181       0.190144  \n",
       "2023-01-19     0.016384        0.478540  0.850487  0.888618       0.164270  \n",
       "2023-01-18     0.025894        0.489066  0.847682  0.889585       0.135783  \n",
       "...                 ...             ...       ...       ...            ...  \n",
       "2018-03-15     0.025072        0.543644  0.000000  0.012582       0.016832  \n",
       "2018-03-14     0.040082        0.494148  0.000675  0.009004       0.029517  \n",
       "2018-03-13     1.000000        0.462995  0.001374  0.004873       0.038493  \n",
       "2018-03-12     0.022142        0.759174  0.005579  0.002226       0.144038  \n",
       "2018-03-09     0.019653        0.432615  0.009440  0.000000       0.179913  \n",
       "\n",
       "[1207 rows x 10 columns]"
      ]
     },
     "execution_count": 18,
     "metadata": {},
     "output_type": "execute_result"
    }
   ],
   "source": [
    "scaled_df"
   ]
  },
  {
   "cell_type": "markdown",
   "id": "d19419ee-1347-4d4c-8f27-dbdd99a3943d",
   "metadata": {},
   "source": [
    "# Train-Test Split (Time Series Style)"
   ]
  },
  {
   "cell_type": "code",
   "execution_count": 19,
   "id": "e6e99ce2-5139-4921-9e97-12ec5e25fcff",
   "metadata": {},
   "outputs": [],
   "source": [
    "train_size = int(len(scaled_df) * 0.8)\n",
    "train, test = scaled_df[:train_size], scaled_df[train_size:]\n"
   ]
  },
  {
   "cell_type": "markdown",
   "id": "6351757b-524a-411d-b2c1-0500955c2f77",
   "metadata": {},
   "source": [
    "# Model Building (LSTM for Time Series Forecasting)"
   ]
  },
  {
   "cell_type": "code",
   "execution_count": 20,
   "id": "7a1e3a7e-447a-40c1-a435-5fdf90039577",
   "metadata": {},
   "outputs": [
    {
     "name": "stderr",
     "output_type": "stream",
     "text": [
      "C:\\Users\\ponna\\anaconda3\\Lib\\site-packages\\keras\\src\\layers\\rnn\\rnn.py:199: UserWarning: Do not pass an `input_shape`/`input_dim` argument to a layer. When using Sequential models, prefer using an `Input(shape)` object as the first layer in the model instead.\n",
      "  super().__init__(**kwargs)\n"
     ]
    },
    {
     "name": "stdout",
     "output_type": "stream",
     "text": [
      "Epoch 1/20\n",
      "\u001b[1m30/30\u001b[0m \u001b[32m━━━━━━━━━━━━━━━━━━━━\u001b[0m\u001b[37m\u001b[0m \u001b[1m5s\u001b[0m 54ms/step - loss: 0.3103 - val_loss: 0.0014\n",
      "Epoch 2/20\n",
      "\u001b[1m30/30\u001b[0m \u001b[32m━━━━━━━━━━━━━━━━━━━━\u001b[0m\u001b[37m\u001b[0m \u001b[1m1s\u001b[0m 20ms/step - loss: 0.0059 - val_loss: 0.0013\n",
      "Epoch 3/20\n",
      "\u001b[1m30/30\u001b[0m \u001b[32m━━━━━━━━━━━━━━━━━━━━\u001b[0m\u001b[37m\u001b[0m \u001b[1m1s\u001b[0m 20ms/step - loss: 0.0015 - val_loss: 9.2854e-04\n",
      "Epoch 4/20\n",
      "\u001b[1m30/30\u001b[0m \u001b[32m━━━━━━━━━━━━━━━━━━━━\u001b[0m\u001b[37m\u001b[0m \u001b[1m1s\u001b[0m 26ms/step - loss: 0.0011 - val_loss: 9.7674e-04\n",
      "Epoch 5/20\n",
      "\u001b[1m30/30\u001b[0m \u001b[32m━━━━━━━━━━━━━━━━━━━━\u001b[0m\u001b[37m\u001b[0m \u001b[1m1s\u001b[0m 20ms/step - loss: 9.2181e-04 - val_loss: 9.5583e-04\n",
      "Epoch 6/20\n",
      "\u001b[1m30/30\u001b[0m \u001b[32m━━━━━━━━━━━━━━━━━━━━\u001b[0m\u001b[37m\u001b[0m \u001b[1m1s\u001b[0m 19ms/step - loss: 8.4738e-04 - val_loss: 9.7629e-04\n",
      "Epoch 7/20\n",
      "\u001b[1m30/30\u001b[0m \u001b[32m━━━━━━━━━━━━━━━━━━━━\u001b[0m\u001b[37m\u001b[0m \u001b[1m1s\u001b[0m 19ms/step - loss: 7.7621e-04 - val_loss: 9.2325e-04\n",
      "Epoch 8/20\n",
      "\u001b[1m30/30\u001b[0m \u001b[32m━━━━━━━━━━━━━━━━━━━━\u001b[0m\u001b[37m\u001b[0m \u001b[1m1s\u001b[0m 19ms/step - loss: 7.4459e-04 - val_loss: 9.2323e-04\n",
      "Epoch 9/20\n",
      "\u001b[1m30/30\u001b[0m \u001b[32m━━━━━━━━━━━━━━━━━━━━\u001b[0m\u001b[37m\u001b[0m \u001b[1m1s\u001b[0m 23ms/step - loss: 7.8140e-04 - val_loss: 9.5841e-04\n",
      "Epoch 10/20\n",
      "\u001b[1m30/30\u001b[0m \u001b[32m━━━━━━━━━━━━━━━━━━━━\u001b[0m\u001b[37m\u001b[0m \u001b[1m1s\u001b[0m 19ms/step - loss: 6.9380e-04 - val_loss: 0.0010\n",
      "Epoch 11/20\n",
      "\u001b[1m30/30\u001b[0m \u001b[32m━━━━━━━━━━━━━━━━━━━━\u001b[0m\u001b[37m\u001b[0m \u001b[1m1s\u001b[0m 32ms/step - loss: 6.7091e-04 - val_loss: 9.1600e-04\n",
      "Epoch 12/20\n",
      "\u001b[1m30/30\u001b[0m \u001b[32m━━━━━━━━━━━━━━━━━━━━\u001b[0m\u001b[37m\u001b[0m \u001b[1m1s\u001b[0m 22ms/step - loss: 6.4811e-04 - val_loss: 9.0810e-04\n",
      "Epoch 13/20\n",
      "\u001b[1m30/30\u001b[0m \u001b[32m━━━━━━━━━━━━━━━━━━━━\u001b[0m\u001b[37m\u001b[0m \u001b[1m1s\u001b[0m 20ms/step - loss: 5.9230e-04 - val_loss: 9.3537e-04\n",
      "Epoch 14/20\n",
      "\u001b[1m30/30\u001b[0m \u001b[32m━━━━━━━━━━━━━━━━━━━━\u001b[0m\u001b[37m\u001b[0m \u001b[1m1s\u001b[0m 33ms/step - loss: 5.7559e-04 - val_loss: 9.2756e-04\n",
      "Epoch 15/20\n",
      "\u001b[1m30/30\u001b[0m \u001b[32m━━━━━━━━━━━━━━━━━━━━\u001b[0m\u001b[37m\u001b[0m \u001b[1m1s\u001b[0m 22ms/step - loss: 5.5556e-04 - val_loss: 8.4545e-04\n",
      "Epoch 16/20\n",
      "\u001b[1m30/30\u001b[0m \u001b[32m━━━━━━━━━━━━━━━━━━━━\u001b[0m\u001b[37m\u001b[0m \u001b[1m1s\u001b[0m 28ms/step - loss: 5.3876e-04 - val_loss: 7.5488e-04\n",
      "Epoch 17/20\n",
      "\u001b[1m30/30\u001b[0m \u001b[32m━━━━━━━━━━━━━━━━━━━━\u001b[0m\u001b[37m\u001b[0m \u001b[1m1s\u001b[0m 21ms/step - loss: 5.1613e-04 - val_loss: 7.2227e-04\n",
      "Epoch 18/20\n",
      "\u001b[1m30/30\u001b[0m \u001b[32m━━━━━━━━━━━━━━━━━━━━\u001b[0m\u001b[37m\u001b[0m \u001b[1m1s\u001b[0m 19ms/step - loss: 4.7592e-04 - val_loss: 7.5958e-04\n",
      "Epoch 19/20\n",
      "\u001b[1m30/30\u001b[0m \u001b[32m━━━━━━━━━━━━━━━━━━━━\u001b[0m\u001b[37m\u001b[0m \u001b[1m1s\u001b[0m 18ms/step - loss: 4.4037e-04 - val_loss: 6.7962e-04\n",
      "Epoch 20/20\n",
      "\u001b[1m30/30\u001b[0m \u001b[32m━━━━━━━━━━━━━━━━━━━━\u001b[0m\u001b[37m\u001b[0m \u001b[1m1s\u001b[0m 20ms/step - loss: 4.3193e-04 - val_loss: 6.3833e-04\n"
     ]
    },
    {
     "data": {
      "text/plain": [
       "<keras.src.callbacks.history.History at 0x235aa67d7c0>"
      ]
     },
     "execution_count": 20,
     "metadata": {},
     "output_type": "execute_result"
    }
   ],
   "source": [
    "from tensorflow.keras.models import Sequential\n",
    "from tensorflow.keras.layers import LSTM, Dense\n",
    "\n",
    "# Create sequences\n",
    "def create_sequences(data, seq_length):\n",
    "    X, y = [], []\n",
    "    for i in range(len(data) - seq_length):\n",
    "        X.append(data[i:i+seq_length])\n",
    "        y.append(data[i+seq_length, 4])  # target = Adj Close\n",
    "    return np.array(X), np.array(y)\n",
    "\n",
    "seq_length = 30\n",
    "X_train, y_train = create_sequences(train.values, seq_length)\n",
    "X_test, y_test = create_sequences(test.values, seq_length)\n",
    "\n",
    "# Build LSTM model\n",
    "model = Sequential([\n",
    "    LSTM(50, return_sequences=False, input_shape=(seq_length, X_train.shape[2])),\n",
    "    Dense(1)\n",
    "])\n",
    "\n",
    "model.compile(optimizer='adam', loss='mse')\n",
    "model.fit(X_train, y_train, epochs=20, batch_size=32, validation_data=(X_test, y_test))\n"
   ]
  },
  {
   "cell_type": "markdown",
   "id": "c863a6f9-ebb6-4021-a097-93a680553f52",
   "metadata": {},
   "source": [
    "# Evaluation & Plotting"
   ]
  },
  {
   "cell_type": "code",
   "execution_count": 21,
   "id": "320a5f2b-074c-44bf-b141-4923cc30b3e2",
   "metadata": {},
   "outputs": [
    {
     "name": "stdout",
     "output_type": "stream",
     "text": [
      "\u001b[1m7/7\u001b[0m \u001b[32m━━━━━━━━━━━━━━━━━━━━\u001b[0m\u001b[37m\u001b[0m \u001b[1m1s\u001b[0m 60ms/step\n"
     ]
    },
    {
     "data": {
      "image/png": "[encoded data removed]",
      "text/plain": [
       "<Figure size 1200x500 with 1 Axes>"
      ]
     },
     "metadata": {},
     "output_type": "display_data"
    }
   ],
   "source": [
    "preds = model.predict(X_test)\n",
    "\n",
    "# Plot actual vs predicted\n",
    "plt.figure(figsize=(12, 5))\n",
    "plt.plot(y_test, label='Actual Adj Close')\n",
    "plt.plot(preds, label='Predicted Adj Close')\n",
    "plt.title('TCS.NS: Actual vs Predicted Prices')\n",
    "plt.legend()\n",
    "plt.show()\n"
   ]
  },
  {
   "cell_type": "markdown",
   "id": "1c8ae7c8-8dce-4954-a58a-780699754c6c",
   "metadata": {},
   "source": [
    "# Evaluation Metrics for Time Series Forecasting"
   ]
  },
  {
   "cell_type": "code",
   "execution_count": 22,
   "id": "03f8627f-db91-4d01-ba93-84658305fcbe",
   "metadata": {},
   "outputs": [
    {
     "name": "stdout",
     "output_type": "stream",
     "text": [
      "MAE  : 0.02\n",
      "MSE  : 0.00\n",
      "RMSE : 0.03\n",
      "R²   : 0.8577\n"
     ]
    },
    {
     "name": "stderr",
     "output_type": "stream",
     "text": [
      "C:\\Users\\ponna\\anaconda3\\Lib\\site-packages\\sklearn\\metrics\\_regression.py:492: FutureWarning: 'squared' is deprecated in version 1.4 and will be removed in 1.6. To calculate the root mean squared error, use the function'root_mean_squared_error'.\n",
      "  warnings.warn(\n"
     ]
    }
   ],
   "source": [
    "def evaluate_forecast(y_true, y_pred):\n",
    "    from sklearn.metrics import mean_absolute_error, mean_squared_error, r2_score\n",
    "    import numpy as np\n",
    "\n",
    "    mae = mean_absolute_error(y_true, y_pred)\n",
    "    mse = mean_squared_error(y_true, y_pred)\n",
    "    rmse = mean_squared_error(y_true, y_pred, squared=False)\n",
    "    r2 = r2_score(y_true, y_pred)\n",
    "    print(f\"MAE  : {mae:.2f}\")\n",
    "    print(f\"MSE  : {mse:.2f}\")\n",
    "    print(f\"RMSE : {rmse:.2f}\")\n",
    "    print(f\"R²   : {r2:.4f}\")\n",
    "# Example usage\n",
    "evaluate_forecast(y_test, preds)\n",
    "\n"
   ]
  },
  {
   "cell_type": "markdown",
   "id": "3711b422-7032-4a2a-8a3d-fa57a2da1487",
   "metadata": {},
   "source": [
    "# Final Dataset"
   ]
  },
  {
   "cell_type": "code",
   "execution_count": 23,
   "id": "73fa63c7-b151-4f70-8ae0-5399c26e5166",
   "metadata": {},
   "outputs": [],
   "source": [
    "\n",
    "df.to_csv(\"final_stock_dataset.csv\", index=False)"
   ]
  },
  {
   "cell_type": "markdown",
   "id": "5169f918-f28b-4d45-ac08-159d25cf7e35",
   "metadata": {},
   "source": [
    "# Forecasted VS Actual Dataset"
   ]
  },
  {
   "cell_type": "code",
   "execution_count": 24,
   "id": "067d7d9d-b1e9-4836-9121-fc2715621024",
   "metadata": {},
   "outputs": [],
   "source": [
    "start_index = len(df) - len(y_test)\n",
    "forecast_dates = df.index[start_index:]\n",
    "\n",
    "forecast_df = pd.DataFrame({\n",
    "    'Date': forecast_dates[:len(y_test)],\n",
    "    'Actual': y_test.flatten(),\n",
    "    'Forecasted': preds.flatten()\n",
    "})\n",
    "\n",
    "forecast_df['Error'] = abs(forecast_df['Actual'] - forecast_df['Forecasted'])\n",
    "\n",
    "# Save to CSV for upload\n",
    "forecast_df.to_csv('forecast_vs_actual.csv', index=False)\n"
   ]
  },
  {
   "cell_type": "markdown",
   "id": "a612980d-5dd7-4266-bbc1-258dd26d6019",
   "metadata": {},
   "source": [
    "# Converting CSV file to Excel."
   ]
  },
  {
   "cell_type": "code",
   "execution_count": 25,
   "id": "eebe24a2-0763-4033-8866-e7412f9292b3",
   "metadata": {},
   "outputs": [
    {
     "name": "stdout",
     "output_type": "stream",
     "text": [
      "Successfully converted CSV to Excel: forecast_vs_actual.xlsx\n"
     ]
    }
   ],
   "source": [
    "import pandas as pd\n",
    "\n",
    "csv_file = \"forecast_vs_actual.csv\"\n",
    "df = pd.read_csv(csv_file)\n",
    "\n",
    "excel_file = \"forecast_vs_actual.xlsx\"\n",
    "df.to_excel(excel_file, index=False)\n",
    "\n",
    "print(\"Successfully converted CSV to Excel:\", excel_file)\n"
   ]
  },
  {
   "cell_type": "code",
   "execution_count": null,
   "id": "151e171c-7101-4fe9-ac40-b0fca727c7bf",
   "metadata": {},
   "outputs": [],
   "source": []
  },
  {
   "cell_type": "code",
   "execution_count": null,
   "id": "3a23593d-e385-4c75-b9fd-6b4f75debab3",
   "metadata": {},
   "outputs": [],
   "source": []
  },
  {
   "cell_type": "code",
   "execution_count": null,
   "id": "a464c8af-e5a2-4fa4-815a-1d96f5b2f9b4",
   "metadata": {},
   "outputs": [],
   "source": []
  }
 ],
 "metadata": {
  "kernelspec": {
   "display_name": "Python 3 (ipykernel)",
   "language": "python",
   "name": "python3"
  },
  "language_info": {
   "codemirror_mode": {
    "name": "ipython",
    "version": 3
   },
   "file_extension": ".py",
   "mimetype": "text/x-python",
   "name": "python",
   "nbconvert_exporter": "python",
   "pygments_lexer": "ipython3",
   "version": "3.12.7"
  }
 },
 "nbformat": 4,
 "nbformat_minor": 5
}
